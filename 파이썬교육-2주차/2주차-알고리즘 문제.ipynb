{
 "cells": [
  {
   "cell_type": "markdown",
   "metadata": {},
   "source": [
    "**문제-1**\n",
    "\n",
    "**sort 함수를 사용하지 않고** 해당 값을 오름차순 하세요.\n",
    "\n",
    "For Example [[7, 8, 10, 2, 1] => [1, 2, 7, 8, 10]"
   ]
  },
  {
   "cell_type": "code",
   "execution_count": null,
   "metadata": {},
   "outputs": [],
   "source": [
    "# Sort Numbers\n",
    "def solution(nums):\n",
    "    # Your code here"
   ]
  },
  {
   "cell_type": "code",
   "execution_count": null,
   "metadata": {},
   "outputs": [],
   "source": [
    "# 답 : [1, 2, 7, 8, 10]\n",
    "solution([7, 8, 10, 2, 1])"
   ]
  },
  {
   "cell_type": "code",
   "execution_count": null,
   "metadata": {},
   "outputs": [],
   "source": [
    "# 답 : [1, 2, 3, 4, 5]\n",
    "solution([i for i in range(5, 0, -1)])"
   ]
  },
  {
   "cell_type": "markdown",
   "metadata": {},
   "source": [
    "**문제-2**\n",
    "\n",
    "**숫자 배열 두 개의 다른 항목을 더아혀 target 숫자를 작성하세요.**\n"
   ]
  },
  {
   "cell_type": "code",
   "execution_count": null,
   "metadata": {},
   "outputs": [],
   "source": [
    "# Two Sum\n",
    "def two_sum(numbers, target):\n",
    "    # Your code here"
   ]
  },
  {
   "cell_type": "code",
   "execution_count": null,
   "metadata": {},
   "outputs": [],
   "source": [
    "# 답 : [0, 2]\n",
    "two_sum([1, 2, 3], 4)"
   ]
  },
  {
   "cell_type": "code",
   "execution_count": null,
   "metadata": {},
   "outputs": [],
   "source": [
    "# 답 : [1, 2]\n",
    "two_sum([1234, 5678, 9012], 14690)"
   ]
  },
  {
   "cell_type": "code",
   "execution_count": null,
   "metadata": {},
   "outputs": [],
   "source": [
    "# 답 : [0, 1]\n",
    "two_sum([2, 2, 3], 4)"
   ]
  }
 ],
 "metadata": {
  "kernelspec": {
   "display_name": "Python 3",
   "language": "python",
   "name": "python3"
  },
  "language_info": {
   "codemirror_mode": {
    "name": "ipython",
    "version": 3
   },
   "file_extension": ".py",
   "mimetype": "text/x-python",
   "name": "python",
   "nbconvert_exporter": "python",
   "pygments_lexer": "ipython3",
   "version": "3.7.6"
  }
 },
 "nbformat": 4,
 "nbformat_minor": 4
}
