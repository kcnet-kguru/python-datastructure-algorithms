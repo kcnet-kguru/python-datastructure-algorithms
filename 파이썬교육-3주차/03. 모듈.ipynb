{
 "cells": [
  {
   "cell_type": "markdown",
   "metadata": {},
   "source": [
    "# 모듈\n",
    "**함수나 변수 또는 클래스를 모아 놓은 파일**<br/>\n",
    "**다른 파이썬 프로그램에서 불러와 사용할 수 있게끔 만든 파이썬 파일**\n",
    "\n",
    "### 모듈 import 방법\n",
    "    1. import 모듈이름\n",
    "    2. from 모듈이름 import 메소드"
   ]
  },
  {
   "cell_type": "raw",
   "metadata": {},
   "source": [
    "# mod1.py\n",
    "def add(a, b):\n",
    "    return a + b\n",
    "\n",
    "def sub(a, b): \n",
    "    return a-b,"
   ]
  },
  {
   "cell_type": "code",
   "execution_count": null,
   "metadata": {},
   "outputs": [],
   "source": [
    "# 1. import 모듈이름\n",
    "import mod1"
   ]
  },
  {
   "cell_type": "code",
   "execution_count": null,
   "metadata": {},
   "outputs": [],
   "source": [
    "print(mod1.add(3, 4))"
   ]
  },
  {
   "cell_type": "code",
   "execution_count": null,
   "metadata": {},
   "outputs": [],
   "source": [
    "print(mod1.sub(4, 2))"
   ]
  },
  {
   "cell_type": "code",
   "execution_count": null,
   "metadata": {},
   "outputs": [],
   "source": [
    "# 2. from 모듈이름 import 메소드\n",
    "from mod1 import add"
   ]
  },
  {
   "cell_type": "code",
   "execution_count": null,
   "metadata": {},
   "outputs": [],
   "source": [
    "add(3, 4)"
   ]
  },
  {
   "cell_type": "raw",
   "metadata": {},
   "source": [
    "if __name__ == \"__main__\":\n",
    "\n",
    "    - 모듈을 직접 실행시켰을 때만 실행되길 원하는 코드 삽입"
   ]
  },
  {
   "cell_type": "raw",
   "metadata": {},
   "source": [
    "# 실습방법\n",
    "1. mod1.py 파일을 아래의 내용을 입력한 후 저장한다.\n",
    "    print(add(3, 4))\n",
    "    print(sub(3, 4))\n",
    "2. \"Anaconda Prompt(Anaconda3) - python\" 실행\n",
    "3. \"mod1.py\" 파일이 있는 위치로 이동\n",
    "4. 명령어 \"python\" 입력 후 엔터\n",
    "5. \"import mod1.py\" 입력 후 엔터\n",
    "6. 출력 내용 표시\n",
    "7. mod1.py 파일을 열고 \"print(add(3, 4))\" 구문 위에 if __name__ == \"__main__\": 입력\n",
    "8. print를 4칸씩 들여쓰기 하고 파일 저장.\n",
    "9. \"import mod1.py\" 입력 후 엔터\n",
    "10. 출력 내용 표시 되지 않음."
   ]
  }
 ],
 "metadata": {
  "kernelspec": {
   "display_name": "Python 3",
   "language": "python",
   "name": "python3"
  },
  "language_info": {
   "codemirror_mode": {
    "name": "ipython",
    "version": 3
   },
   "file_extension": ".py",
   "mimetype": "text/x-python",
   "name": "python",
   "nbconvert_exporter": "python",
   "pygments_lexer": "ipython3",
   "version": "3.7.6"
  }
 },
 "nbformat": 4,
 "nbformat_minor": 4
}
