{
 "cells": [
  {
   "cell_type": "markdown",
   "metadata": {},
   "source": [
    "## 클래스"
   ]
  },
  {
   "cell_type": "markdown",
   "metadata": {},
   "source": [
    "#### 클래스와 객체\n",
    "\n",
    "![class_object](./02_class.png)\n",
    "\n",
    "\n",
    "과자를 만드는 과자 틀과 그것을 사용해 만든 과자이다.\n",
    "\n",
    "과자 틀 → 클래스 (class) <br/>\n",
    "과자 틀에 의해서 만들어진 과자 → 객체 (object)\n",
    "\n",
    "**클래스(class)** - 똑같은 무엇인가를 계속해서 만들어 낼 수 있는 설계 도면 <br/>\n",
    "**객체(object)** - 클래스로 만든 피조물"
   ]
  },
  {
   "cell_type": "markdown",
   "metadata": {},
   "source": [
    "#### [객체와 인스턴스의 차이]**\n",
    "\n",
    "**인스턴스 : 클래스로 만든 객체**\n",
    "    \n",
    "**특정 객체가 어떤 클래스의 객체인지를 관계 위주로 설명할 때 사용한다.**\n",
    "\n",
    "**a = Cookie()**\n",
    "\n",
    "**\"a는 인스턴스\"보다는 \"a는 객체\"**<br/>\n",
    "**\"a는 Cookie의 객체\" 보다는 \"a는 Cookie의 인스턴스\"**"
   ]
  },
  {
   "cell_type": "markdown",
   "metadata": {},
   "source": [
    "Method\n",
    "    - 클래스의 행위를 표현하는 것으로 클래스 내의 함수\n",
    "Class Variable\n",
    "    - 클래스 내부에 선언된 변수\n",
    "Instance Variable\n",
    "    - self가 붙어 있는 변수\n"
   ]
  },
  {
   "cell_type": "markdown",
   "metadata": {},
   "source": [
    "### 매직 메소드(Special Method)\n",
    "    - 함수이름 앞과 뒤에 언더스코어(_) 두개가 연속으로 붙어있는 함수\n",
    "    - 파이썬에서 그 이름을 미리 지정해 둔 예약함수들도 그 기능이 정해져 있음\n",
    "    - 가장 일반적인 용도는 오퍼레이터의 오버로딩용"
   ]
  },
  {
   "cell_type": "code",
   "execution_count": null,
   "metadata": {},
   "outputs": [],
   "source": [
    "class coordinate:\n",
    "    def __init__(self, x, y):\n",
    "        self.x = x\n",
    "        self.y = y\n",
    "\n",
    "    def __add__(self, other):\n",
    "        return coordinate(self.x + other.x, self.y + other.y)\n",
    "\n",
    "coord1 = coordinate(5, 7)\n",
    "coord2 = coordinate(3, 9)\n",
    "coord3 = coord1 + coord2\n",
    "\n",
    "print('{}, {}'.format(coord1.x, coord1.y))\n",
    "print('{}, {}'.format(coord2.x, coord2.y))\n",
    "print('{}, {}'.format(coord3.x, coord3.y))"
   ]
  },
  {
   "cell_type": "markdown",
   "metadata": {},
   "source": [
    "#### 매직 메소드 추가 설명\n",
    "[파이썬(Python) - 매직(Special)메소드 설명](https://niceman.tistory.com/196)"
   ]
  },
  {
   "cell_type": "code",
   "execution_count": null,
   "metadata": {},
   "outputs": [],
   "source": [
    "class Rectangle:\n",
    "    count = 0  # 클래스 변수\n",
    "    \n",
    "    # initializer(Magic Method)\n",
    "    def __init__(self, width, height):\n",
    "        # self.* : 인스턴스변수\n",
    "        self.width = width\n",
    "        self.height = height\n",
    "        Rectangle.count += 1\n",
    "     \n",
    "    # 메서드\n",
    "    def calcArea(self):\n",
    "        area = self.width * self.height\n",
    "        return area"
   ]
  },
  {
   "cell_type": "code",
   "execution_count": null,
   "metadata": {},
   "outputs": [],
   "source": [
    "# Type 확인하기\n",
    "type(Calculator())"
   ]
  },
  {
   "cell_type": "markdown",
   "metadata": {},
   "source": [
    "#### 곱하기, 빼기, 나누기 기능 만들기"
   ]
  },
  {
   "cell_type": "code",
   "execution_count": null,
   "metadata": {},
   "outputs": [],
   "source": [
    "class FourCal:\n",
    "    def __init__(self, first, second):\n",
    "        self.first = first\n",
    "        self.second = second\n",
    "    def add(self):\n",
    "        result = self.first + self.second\n",
    "        return result\n",
    "    def mul(self):\n",
    "        result = self.first * self.second\n",
    "        return result\n",
    "    def sub(self):\n",
    "        result = self.first - self.second\n",
    "        return result\n",
    "    def div(self):\n",
    "        result = self.first / self.second\n",
    "        return result"
   ]
  },
  {
   "cell_type": "code",
   "execution_count": null,
   "metadata": {},
   "outputs": [],
   "source": [
    "cal = FourCal(4, 3)"
   ]
  },
  {
   "cell_type": "code",
   "execution_count": null,
   "metadata": {},
   "outputs": [],
   "source": [
    "cal.add()"
   ]
  }
 ],
 "metadata": {
  "kernelspec": {
   "display_name": "Python 3",
   "language": "python",
   "name": "python3"
  },
  "language_info": {
   "codemirror_mode": {
    "name": "ipython",
    "version": 3
   },
   "file_extension": ".py",
   "mimetype": "text/x-python",
   "name": "python",
   "nbconvert_exporter": "python",
   "pygments_lexer": "ipython3",
   "version": "3.7.6"
  }
 },
 "nbformat": 4,
 "nbformat_minor": 4
}
