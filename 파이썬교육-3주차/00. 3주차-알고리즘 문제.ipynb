{
 "cells": [
  {
   "cell_type": "markdown",
   "metadata": {},
   "source": [
    "**문제-1**\n",
    "\n",
    "주어진 문자열의 모음수를 구하세요.\n",
    "\n",
    "모음은 'a', 'e', 'i', 'o', 'u', 'A', 'E', 'I', 'O', 'U' 만 해당됩니다.\n",
    "\n",
    "단, 구현은 \"List Comprehension\"을 이용하여야 합니다."
   ]
  },
  {
   "cell_type": "code",
   "execution_count": null,
   "metadata": {},
   "outputs": [],
   "source": [
    "#Vowel Count\n",
    "def get_count(input_str):\n",
    "    num_vowels = 0\n",
    "    # your code here\n",
    "    "
   ]
  },
  {
   "cell_type": "code",
   "execution_count": null,
   "metadata": {},
   "outputs": [],
   "source": [
    "# 답 : 5\n",
    "get_count(\"abracadabra\")"
   ]
  },
  {
   "cell_type": "code",
   "execution_count": null,
   "metadata": {},
   "outputs": [],
   "source": [
    "# 답 : 0\n",
    "get_count(\"\")"
   ]
  },
  {
   "cell_type": "code",
   "execution_count": null,
   "metadata": {},
   "outputs": [],
   "source": [
    "# 답 : 4\n",
    "get_count(\"pear tree\")"
   ]
  },
  {
   "cell_type": "markdown",
   "metadata": {},
   "source": [
    "**문제-2**\n",
    "\n",
    "숫자를 3 또는 5의 배수일 경우에 해당하는 수의 합을 구하세요.\n",
    "\n",
    "예를 들어 10일 경우 **10 미만의 값**에 해당하는 <br/>\n",
    "3의 배수에 해당하는 3, 6, 9 와 <br/>\n",
    "5의 배수에 해당하는 5 를 더하여 <br/>\n",
    "합이 \"23\"이 됩니다. <br/>\n",
    "\n",
    "3과 5의 배수에 대해서는 한 번만 구하세요.\n"
   ]
  },
  {
   "cell_type": "code",
   "execution_count": null,
   "metadata": {},
   "outputs": [],
   "source": [
    "# Multiples of 3 or 5\n",
    "def solution(number):\n",
    "    # your code here\n",
    "    "
   ]
  },
  {
   "cell_type": "code",
   "execution_count": null,
   "metadata": {},
   "outputs": [],
   "source": [
    "# 답 : 23\n",
    "solution(10)"
   ]
  },
  {
   "cell_type": "markdown",
   "metadata": {},
   "source": [
    "**문제-3**\n",
    "\n",
    "주어진 숫자에 대해 하나씩 수를 취하여 숫자의 합을 계산하여, <br/>\n",
    "계산 값이 두 자리 이상의 숫자가 있으면 한 자리 숫자가 생성 될 때까지 <br/>\n",
    "이 방법으로 계속 줄입니다. <br/><br/>\n",
    "    16  -->  1 + 6 = 7 <br/>\n",
    "   942  -->  9 + 4 + 2 = 15  -->  1 + 5 = 6 <br/>\n",
    "132189  -->  1 + 3 + 2 + 1 + 8 + 9 = 24  -->  2 + 4 = 6 <br/>\n",
    "493193  -->  4 + 9 + 3 + 1 + 9 + 3 = 29  -->  2 + 9 = 11  -->  1 + 1 = 2 <br/>"
   ]
  },
  {
   "cell_type": "code",
   "execution_count": null,
   "metadata": {},
   "outputs": [],
   "source": [
    "def digital_root(n):\n",
    "    # your code here"
   ]
  },
  {
   "cell_type": "code",
   "execution_count": null,
   "metadata": {},
   "outputs": [],
   "source": [
    "# 답 : 7\n",
    "digital_root(16)"
   ]
  },
  {
   "cell_type": "code",
   "execution_count": null,
   "metadata": {},
   "outputs": [],
   "source": [
    "# 답 : 6\n",
    "digital_root(942)"
   ]
  },
  {
   "cell_type": "code",
   "execution_count": null,
   "metadata": {},
   "outputs": [],
   "source": [
    "# 답 : 6\n",
    "digital_root(132189)"
   ]
  },
  {
   "cell_type": "code",
   "execution_count": null,
   "metadata": {},
   "outputs": [],
   "source": [
    "# 답 : 2\n",
    "digital_root(493193)"
   ]
  }
 ],
 "metadata": {
  "kernelspec": {
   "display_name": "Python 3",
   "language": "python",
   "name": "python3"
  },
  "language_info": {
   "codemirror_mode": {
    "name": "ipython",
    "version": 3
   },
   "file_extension": ".py",
   "mimetype": "text/x-python",
   "name": "python",
   "nbconvert_exporter": "python",
   "pygments_lexer": "ipython3",
   "version": "3.7.7"
  }
 },
 "nbformat": 4,
 "nbformat_minor": 4
}
